{
  "nbformat": 4,
  "nbformat_minor": 0,
  "metadata": {
    "colab": {
      "provenance": [],
      "authorship_tag": "ABX9TyPu0e7+EK5n/CwpK1MGcxjv",
      "include_colab_link": true
    },
    "kernelspec": {
      "name": "python3",
      "display_name": "Python 3"
    },
    "language_info": {
      "name": "python"
    }
  },
  "cells": [
    {
      "cell_type": "markdown",
      "metadata": {
        "id": "view-in-github",
        "colab_type": "text"
      },
      "source": [
        "<a href=\"https://colab.research.google.com/github/atharva-mohite/CS_403_Machine_Learning_project/blob/main/CS_403_generate_results.ipynb\" target=\"_parent\"><img src=\"https://colab.research.google.com/assets/colab-badge.svg\" alt=\"Open In Colab\"/></a>"
      ]
    },
    {
      "cell_type": "markdown",
      "source": [
        "\n",
        "**CS 403 project: Density-weighted support vector machines for binary class imbalance learning**\n",
        "\n",
        "**Result Generation Code**\n",
        "\n",
        "---\n",
        "\n",
        "\n",
        "\n",
        "**Instuctions to run the notebook:**\n",
        "\n",
        "Run the following sections-\n",
        "\n",
        "1. Add a shortcut of the 'CS_403_project_files' folder ([link](https://drive.google.com/drive/folders/1dQugKuL-zx1mXT4NcWCNCz1W2tdqMYRR?usp=sharing)) and mount the drive.\n",
        "\n",
        "2. Paste the path to the shortcut of the 'CS_403_project_files' folder A blank CSV file 'project_results.csv' has been added to this folder as a result sheet template.\n",
        "\n",
        "3. Run all the cells in the notebook. Ignore the warnings (if any)\n",
        "\n",
        "4. The results will be saved as 'project_results_complete.xlsx' in the 'CS_403_project_files' folder"
      ],
      "metadata": {
        "id": "eSEytSO6zbHf"
      }
    },
    {
      "cell_type": "code",
      "execution_count": 1,
      "metadata": {
        "colab": {
          "base_uri": "https://localhost:8080/"
        },
        "id": "K77HQtxZd2pR",
        "outputId": "464844d6-4b88-4782-8381-6f86dbdf1e98"
      },
      "outputs": [
        {
          "output_type": "stream",
          "name": "stdout",
          "text": [
            "Mounted at /content/drive\n"
          ]
        }
      ],
      "source": [
        "from google.colab import drive\n",
        "drive.mount('/content/drive')"
      ]
    },
    {
      "cell_type": "code",
      "source": [
        "import pandas as pd\n",
        "import matplotlib.pyplot as plt\n",
        "import numpy as np\n",
        "from sklearn.cluster import MiniBatchKMeans\n",
        "from imblearn.over_sampling import SMOTE, BorderlineSMOTE, KMeansSMOTE, ADASYN\n",
        "from imblearn.under_sampling import NearMiss, CondensedNearestNeighbour, TomekLinks\n",
        "from imblearn.combine import SMOTEENN, SMOTETomek\n",
        "from scipy.spatial.distance import cdist\n",
        "from sklearn.neighbors import NearestNeighbors\n",
        "import time\n",
        "from sklearn import svm\n",
        "from sklearn.metrics import confusion_matrix"
      ],
      "metadata": {
        "id": "1StDCwQbeBci"
      },
      "execution_count": 2,
      "outputs": []
    },
    {
      "cell_type": "code",
      "source": [
        "datasets = ['04clover5z-600-5-50-BI.dat','04clover5z-600-5-70-BI.dat','paw02a-600-5-0-BI.dat','paw02a-600-5-70-BI.dat','paw02a-800-7-30-BI.dat']\n",
        "over_or_under = ['None', 'SMOTE', 'Borderline_SMOTE', 'KMeans_SMOTE', 'ADASYN', 'Near-Miss', 'Condensed_NN', 'TomekLinks', 'SMOTEENN', 'SMOTETomek']\n",
        "models = ['SVM', 'LSSVM', 'IDLSSVM-CIL']\n",
        "\n",
        "folder_path = \"/content/drive/MyDrive/CS_403_project_files\"\n",
        "results = pd.read_csv(folder_path + \"/project_results.csv\", header=None)\n",
        "\n",
        "split_ratio = 0.3\n",
        "optimized_params = [[(0.2034, 10**1, 2**(-2)), (0.2034, 10**2, 2**(-4)), (0.2034, 10**1, 2**(-4)), (0.2034, 10**4, 2**(-4))],\n",
        "    [(0.1932, 10**2, 2**(-2)), (0.1932, 10**0, 2**(-2)), (0.1932, 10**0, 2**(-3)), (0.1932, 10**2, 2**(-2))],\n",
        "    [(0.2068, 10**3, 2**(-2)), (0.2068, 10**1, 2**(-3)), (0.2068, 10**2, 2**(-3)), (0.2068, 10**1, 2**(-3))],\n",
        "    [(0.2, 10**2, 2**(-1)), (0.2, 10**1, 2**(-2)), (0.2, 10**1, 2**(-2)), (0.2, 10**1, 2**(-2))],\n",
        "    [(0.1429, 10**0, 2**(-3)), (0.1429, 10**3, 2**(-3)), (0.1429, 10**1, 2**(-4)), (0.1429, 10**2, 2**(-3))]]\n",
        "E = 0.1"
      ],
      "metadata": {
        "id": "RMR18bBtdCy4"
      },
      "execution_count": 4,
      "outputs": []
    },
    {
      "cell_type": "code",
      "source": [
        "def rbf(x_i, x_j, sigma):\n",
        "  return np.exp((-cdist(x_i, x_j)**2)/ sigma**2)"
      ],
      "metadata": {
        "id": "Hcuoc7QteQMz"
      },
      "execution_count": 6,
      "outputs": []
    },
    {
      "cell_type": "code",
      "source": [
        "def compute_density_weight(X):\n",
        "  nn_model = NearestNeighbors(n_neighbors=5)\n",
        "  nn_model.fit(X)\n",
        "  distances, _ = nn_model.kneighbors(X)\n",
        "  kth_neighbor_distances = distances[:, -1]\n",
        "  d = 1 - (kth_neighbor_distances/np.max(kth_neighbor_distances))\n",
        "  D_ = np.diag(d, k=0)\n",
        "  return D_"
      ],
      "metadata": {
        "id": "7JrzcgvAdijW"
      },
      "execution_count": 7,
      "outputs": []
    },
    {
      "cell_type": "code",
      "source": [
        "def fit_lssvm(X, y, C_, mu_):\n",
        "\n",
        "  y = y.reshape(-1,1) if y.ndim==1 else y\n",
        "  y_labels = np.unique(y, axis=0)\n",
        "  y = np.where((y == y_labels[0]).all(axis=1),-1,+1)[:,np.newaxis]\n",
        "\n",
        "  K = rbf(X,X,mu_)\n",
        "  sigma = np.multiply(y*y.T, K)\n",
        "  A = np.block([[0, y.T], [y, sigma + C_**-1 *np.eye(len(y))]])\n",
        "  B = np.array([0]+[1]*len(y))\n",
        "\n",
        "  A_inv = np.linalg.pinv(A)\n",
        "  solution = np.dot(A_inv, B)\n",
        "  b_ = solution[0]\n",
        "  alpha_ = solution[1:]\n",
        "\n",
        "  return (alpha_, b_)"
      ],
      "metadata": {
        "id": "GrfQ0p4NeXdF"
      },
      "execution_count": 8,
      "outputs": []
    },
    {
      "cell_type": "code",
      "source": [
        "def predict_lssvm(sv_X, X, y, alpha_, b_, mu_):\n",
        "\n",
        "  X_reshaped = X.reshape(1,-1) if X.ndim==1 else X\n",
        "  y = y.reshape(-1,1) if y.ndim==1 else y\n",
        "  y_labels = np.unique(y, axis=0)\n",
        "  y = np.where((y == y_labels[0]).all(axis=1),-1,+1)[:,np.newaxis]\n",
        "\n",
        "  KxX = rbf(sv_X, X_reshaped, mu_)\n",
        "  y = np.sign(np.dot(np.multiply(alpha_, y.flatten()), KxX) + b_)\n",
        "  y_pred_labels = np.where(y==-1, y_labels[0], y_labels[1])\n",
        "\n",
        "  return y_pred_labels"
      ],
      "metadata": {
        "id": "XPED9hQ6eViK"
      },
      "execution_count": 9,
      "outputs": []
    },
    {
      "cell_type": "code",
      "source": [
        "def fit_idlssvmcil(X, y, D, C_, mu_, E_):\n",
        "  y = y.reshape(-1,1) if y.ndim==1 else y\n",
        "  y_labels = np.unique(y, axis=0)\n",
        "  y = np.where((y == y_labels[0]).all(axis=1),-1,+1)[:,np.newaxis]\n",
        "\n",
        "  K = rbf(X,X,mu_)\n",
        "  DTD = D.T*D\n",
        "  DTD_inv = np.linalg.pinv(DTD)\n",
        "  DTD_inv = (C_**-1)*DTD_inv + (E_)*np.eye(len(y))\n",
        "  sigma = np.multiply(y*y.T, K)\n",
        "  A = np.block([[0, y.T], [y, sigma + DTD_inv]])\n",
        "  B = np.array([0]+[1]*len(y))\n",
        "\n",
        "  A_inv = np.linalg.pinv(A)\n",
        "  solution = np.dot(A_inv, B)\n",
        "  b_ = solution[0]\n",
        "  alpha_ = solution[1:]\n",
        "\n",
        "  return (alpha_, b_)"
      ],
      "metadata": {
        "id": "XH0wYuuFd4vO"
      },
      "execution_count": 10,
      "outputs": []
    },
    {
      "cell_type": "code",
      "source": [
        "def predict_idlssvmcil(sv_X, X, y, alpha_, b_, mu_):\n",
        "\n",
        "  X_reshaped = X.reshape(1,-1) if X.ndim==1 else X\n",
        "  y = y.reshape(-1,1) if y.ndim==1 else y\n",
        "  y_labels = np.unique(y, axis=0)\n",
        "  y = np.where((y == y_labels[0]).all(axis=1),-1,+1)[:,np.newaxis]\n",
        "\n",
        "  KxX = rbf(sv_X, X_reshaped,mu_)\n",
        "  y = np.sign(np.dot(np.multiply(alpha_, y.flatten()), KxX) + b_)\n",
        "  y_pred_labels = np.where(y==-1, y_labels[0], y_labels[1])\n",
        "\n",
        "  return y_pred_labels"
      ],
      "metadata": {
        "id": "BCEO0HTcd4yC"
      },
      "execution_count": 11,
      "outputs": []
    },
    {
      "cell_type": "code",
      "source": [
        "for model_no in range(3):\n",
        "  print(\"Model selected:\",models[model_no])\n",
        "\n",
        "  for dataset_no in range(5):\n",
        "    train_IR, C, mu = optimized_params[dataset_no][model_no]\n",
        "\n",
        "    file_path = folder_path + \"/keel_datasets/\" + datasets[dataset_no]\n",
        "    df = pd.read_csv(file_path, header=None, names=['feature1', 'feature2', 'class'])\n",
        "    df = df.iloc[7:].reset_index(drop=True).astype(int)\n",
        "\n",
        "    min_values = df.min()\n",
        "    max_values = df.max()\n",
        "    df['feature1'] = (df['feature1'] - int(min_values[0])) / (int(max_values[0]) - int(min_values[0]))\n",
        "    df['feature2'] = (df['feature2'] - int(min_values[1])) / (int(max_values[1]) - int(min_values[1]))\n",
        "\n",
        "    df_1 = df[df['class'] == 1]\n",
        "    df_0 = df[df['class'] == 0]\n",
        "    train_size = int(df.shape[0]*(1-split_ratio))\n",
        "    num_train_0 = int((train_size*train_IR)/(1+train_IR))\n",
        "    df_train_0 = df_0.sample(n=num_train_0, random_state=42)\n",
        "    df_train_1 = df_1.sample(n=(train_size-num_train_0), random_state=42)\n",
        "    df_test_0 = df_0.drop(df_train_0.index)\n",
        "    df_test_1 = df_1.drop(df_train_1.index)\n",
        "    df_train = pd.concat([df_train_0, df_train_1], ignore_index=True)\n",
        "    df_test = pd.concat([df_test_0, df_test_1], ignore_index=True)\n",
        "\n",
        "    for over_or_under_no in range(10):\n",
        "      X_train = df_train.iloc[:, :2].values\n",
        "      y_train = df_train.iloc[:,2].values\n",
        "      X_test = df_test.iloc[:, :2].values\n",
        "      y_test = df_test.iloc[:,2].values\n",
        "\n",
        "      if over_or_under_no in [0, 6, 7]:\n",
        "        if over_or_under_no > 0:\n",
        "          if over_or_under_no==6:\n",
        "            sampling = CondensedNearestNeighbour()\n",
        "          elif over_or_under_no==7:\n",
        "            sampling = TomekLinks()\n",
        "          X_train, y_train = sampling.fit_resample(X_train, y_train)\n",
        "          train_IR = np.sum(y_train == 0)/np.sum(y_train == 1)\n",
        "\n",
        "        if model_no==0:\n",
        "          start_time = time.time()\n",
        "          SVM_model = svm.SVC(C = C, kernel='rbf', gamma = mu, class_weight='balanced')\n",
        "          SVM_model.fit(X_train, y_train)\n",
        "          y_pred = SVM_model.predict(X_test)\n",
        "          end_time = time.time()\n",
        "          computation_time = end_time - start_time\n",
        "\n",
        "        elif model_no==1:\n",
        "          start_time = time.time()\n",
        "          alpha, b = fit_lssvm(X_train, y_train, C, mu)\n",
        "          y_pred = predict_lssvm(X_train, X_test, y_train, alpha, b, mu)\n",
        "          end_time = time.time()\n",
        "          computation_time = end_time - start_time\n",
        "\n",
        "        elif model_no==2:\n",
        "          start_time = time.time()\n",
        "          D = compute_density_weight(X_train)\n",
        "          alpha, b = fit_idlssvmcil(X_train, y_train, D, C, mu, E)\n",
        "          y_pred = predict_idlssvmcil(X_train, X_test, y_train, alpha, b, mu)\n",
        "          end_time = time.time()\n",
        "          computation_time = end_time - start_time\n",
        "\n",
        "        tn, fp, fn, tp = confusion_matrix(y_test, y_pred).ravel()\n",
        "        auc = ((1 + (tp/(tp + fn)) - (fp/(tn + fp)))/2)*100\n",
        "        g_mean = ((tp/(tp + fp)) * (tp/(tp + fn)))**0.5\n",
        "        test_acc = ((tp + tn)/(tp + tn + fp + fn))*100\n",
        "\n",
        "        if over_or_under_no==0:\n",
        "          results.loc[2 + (24*model_no), ((7*dataset_no) + 3)] = '{:.2f}'.format(train_IR)\n",
        "          results.loc[2 + (24*model_no), ((7*dataset_no) + 4)] = C\n",
        "          results.loc[2 + (24*model_no), ((7*dataset_no) + 5)] = mu\n",
        "          results.loc[2 + (24*model_no), ((7*dataset_no) + 6)] = '{:.4f}'.format(computation_time)\n",
        "          results.loc[2 + (24*model_no), ((7*dataset_no) + 7)] = '{:.2f}'.format(auc)\n",
        "          results.loc[2 + (24*model_no), ((7*dataset_no) + 8)] = '{:.5f}'.format(g_mean)\n",
        "          results.loc[2 + (24*model_no), ((7*dataset_no) + 9)] = '{:.2f}'.format(test_acc)\n",
        "\n",
        "        else:\n",
        "          results.loc[12 + (24*model_no) + over_or_under_no, ((7*dataset_no) + 3)] = '{:.2f}'.format(train_IR)\n",
        "          results.loc[12 + (24*model_no) + over_or_under_no, ((7*dataset_no) + 4)] = C\n",
        "          results.loc[12 + (24*model_no) + over_or_under_no, ((7*dataset_no) + 5)] = mu\n",
        "          results.loc[12 + (24*model_no) + over_or_under_no, ((7*dataset_no) + 6)] = '{:.4f}'.format(computation_time)\n",
        "          results.loc[12 + (24*model_no) + over_or_under_no, ((7*dataset_no) + 7)] = '{:.2f}'.format(auc)\n",
        "          results.loc[12 + (24*model_no) + over_or_under_no, ((7*dataset_no) + 8)] = '{:.5f}'.format(g_mean)\n",
        "          results.loc[12 + (24*model_no) + over_or_under_no, ((7*dataset_no) + 9)] = '{:.2f}'.format(test_acc)\n",
        "\n",
        "      else:\n",
        "        for num in range(3):\n",
        "          desired_ratio = [0.4, 0.6, 1.0][num]\n",
        "\n",
        "          if over_or_under_no==1:\n",
        "            sampling = SMOTE(sampling_strategy=desired_ratio, k_neighbors=5)\n",
        "          elif over_or_under_no==2:\n",
        "            sampling = BorderlineSMOTE(sampling_strategy=desired_ratio, k_neighbors=5)\n",
        "          elif over_or_under_no==3:\n",
        "            sampling = KMeansSMOTE(cluster_balance_threshold=0.2, sampling_strategy=desired_ratio, k_neighbors=2, kmeans_estimator=MiniBatchKMeans())\n",
        "          elif over_or_under_no==4:\n",
        "            sampling = ADASYN(sampling_strategy=desired_ratio)\n",
        "          elif over_or_under_no==5:\n",
        "            sampling = NearMiss(sampling_strategy=desired_ratio)\n",
        "          elif over_or_under_no==8:\n",
        "            sampling = SMOTEENN(sampling_strategy=desired_ratio)\n",
        "          elif over_or_under_no==9:\n",
        "            sampling = SMOTETomek(sampling_strategy=desired_ratio)\n",
        "          X_train, y_train = sampling.fit_resample(X_train, y_train)\n",
        "          train_IR = np.sum(y_train == 0)/np.sum(y_train == 1)\n",
        "\n",
        "          if model_no==0:\n",
        "            start_time = time.time()\n",
        "            SVM_model = svm.SVC(C = C, kernel='rbf', gamma = mu, class_weight='balanced')\n",
        "            SVM_model.fit(X_train, y_train)\n",
        "            y_pred = SVM_model.predict(X_test)\n",
        "            end_time = time.time()\n",
        "            computation_time = end_time - start_time\n",
        "\n",
        "          elif model_no==1:\n",
        "            start_time = time.time()\n",
        "            alpha, b = fit_lssvm(X_train, y_train, C, mu)\n",
        "            y_pred = predict_lssvm(X_train, X_test, y_train, alpha, b, mu)\n",
        "            end_time = time.time()\n",
        "            computation_time = end_time - start_time\n",
        "\n",
        "          elif model_no==2:\n",
        "            start_time = time.time()\n",
        "            D = compute_density_weight(X_train)\n",
        "            alpha, b = fit_idlssvmcil(X_train, y_train, D, C, mu, E)\n",
        "            y_pred = predict_idlssvmcil(X_train, X_test, y_train, alpha, b, mu)\n",
        "            end_time = time.time()\n",
        "            computation_time = end_time - start_time\n",
        "\n",
        "          tn, fp, fn, tp = confusion_matrix(y_test, y_pred).ravel()\n",
        "          auc = ((1 + (tp/(tp + fn)) - (fp/(tn + fp)))/2)*100\n",
        "          g_mean = ((tp/(tp + fp)) * (tp/(tp + fn)))**0.5\n",
        "          test_acc = ((tp + tn)/(tp + tn + fp + fn))*100\n",
        "\n",
        "          if over_or_under_no in [8,9]:\n",
        "            results.loc[(20 + num + (over_or_under_no - 8)*3) + (24*model_no), ((7*dataset_no) + 3)] = '{:.2f}'.format(train_IR)\n",
        "            results.loc[(20 + num + (over_or_under_no - 8)*3) + (24*model_no), ((7*dataset_no) + 4)] = C\n",
        "            results.loc[(20 + num + (over_or_under_no - 8)*3) + (24*model_no), ((7*dataset_no) + 5)] = mu\n",
        "            results.loc[(20 + num + (over_or_under_no - 8)*3) + (24*model_no), ((7*dataset_no) + 6)] = '{:.4f}'.format(computation_time)\n",
        "            results.loc[(20 + num + (over_or_under_no - 8)*3) + (24*model_no), ((7*dataset_no) + 7)] = '{:.2f}'.format(auc)\n",
        "            results.loc[(20 + num + (over_or_under_no - 8)*3) + (24*model_no), ((7*dataset_no) + 8)] = '{:.5f}'.format(g_mean)\n",
        "            results.loc[(20 + num + (over_or_under_no - 8)*3) + (24*model_no), ((7*dataset_no) + 9)] = '{:.2f}'.format(test_acc)\n",
        "\n",
        "          else:\n",
        "            results.loc[(3 + num + (over_or_under_no - 1)*3) + (24*model_no), ((7*dataset_no) + 3)] = '{:.2f}'.format(train_IR)\n",
        "            results.loc[(3 + num + (over_or_under_no - 1)*3) + (24*model_no), ((7*dataset_no) + 4)] = C\n",
        "            results.loc[(3 + num + (over_or_under_no - 1)*3) + (24*model_no), ((7*dataset_no) + 5)] = mu\n",
        "            results.loc[(3 + num + (over_or_under_no - 1)*3) + (24*model_no), ((7*dataset_no) + 6)] = '{:.4f}'.format(computation_time)\n",
        "            results.loc[(3 + num + (over_or_under_no - 1)*3) + (24*model_no), ((7*dataset_no) + 7)] = '{:.2f}'.format(auc)\n",
        "            results.loc[(3 + num + (over_or_under_no - 1)*3) + (24*model_no), ((7*dataset_no) + 8)] = '{:.5f}'.format(g_mean)\n",
        "            results.loc[(3 + num + (over_or_under_no - 1)*3) + (24*model_no), ((7*dataset_no) + 9)] = '{:.2f}'.format(test_acc)"
      ],
      "metadata": {
        "colab": {
          "base_uri": "https://localhost:8080/"
        },
        "id": "xcptGgy1x57A",
        "outputId": "f19035ed-6a33-4f4c-f7ed-d3d924638260"
      },
      "execution_count": 12,
      "outputs": [
        {
          "output_type": "stream",
          "name": "stdout",
          "text": [
            "Model selected: SVM\n"
          ]
        },
        {
          "output_type": "stream",
          "name": "stderr",
          "text": [
            "/usr/local/lib/python3.10/dist-packages/sklearn/cluster/_kmeans.py:870: FutureWarning: The default value of `n_init` will change from 3 to 'auto' in 1.4. Set the value of `n_init` explicitly to suppress the warning\n",
            "  warnings.warn(\n",
            "/usr/local/lib/python3.10/dist-packages/sklearn/cluster/_kmeans.py:870: FutureWarning: The default value of `n_init` will change from 3 to 'auto' in 1.4. Set the value of `n_init` explicitly to suppress the warning\n",
            "  warnings.warn(\n",
            "/usr/local/lib/python3.10/dist-packages/sklearn/cluster/_kmeans.py:870: FutureWarning: The default value of `n_init` will change from 3 to 'auto' in 1.4. Set the value of `n_init` explicitly to suppress the warning\n",
            "  warnings.warn(\n",
            "/usr/local/lib/python3.10/dist-packages/sklearn/cluster/_kmeans.py:870: FutureWarning: The default value of `n_init` will change from 3 to 'auto' in 1.4. Set the value of `n_init` explicitly to suppress the warning\n",
            "  warnings.warn(\n",
            "/usr/local/lib/python3.10/dist-packages/sklearn/cluster/_kmeans.py:870: FutureWarning: The default value of `n_init` will change from 3 to 'auto' in 1.4. Set the value of `n_init` explicitly to suppress the warning\n",
            "  warnings.warn(\n",
            "/usr/local/lib/python3.10/dist-packages/sklearn/cluster/_kmeans.py:870: FutureWarning: The default value of `n_init` will change from 3 to 'auto' in 1.4. Set the value of `n_init` explicitly to suppress the warning\n",
            "  warnings.warn(\n",
            "/usr/local/lib/python3.10/dist-packages/sklearn/cluster/_kmeans.py:870: FutureWarning: The default value of `n_init` will change from 3 to 'auto' in 1.4. Set the value of `n_init` explicitly to suppress the warning\n",
            "  warnings.warn(\n",
            "/usr/local/lib/python3.10/dist-packages/sklearn/cluster/_kmeans.py:870: FutureWarning: The default value of `n_init` will change from 3 to 'auto' in 1.4. Set the value of `n_init` explicitly to suppress the warning\n",
            "  warnings.warn(\n",
            "/usr/local/lib/python3.10/dist-packages/sklearn/cluster/_kmeans.py:870: FutureWarning: The default value of `n_init` will change from 3 to 'auto' in 1.4. Set the value of `n_init` explicitly to suppress the warning\n",
            "  warnings.warn(\n",
            "/usr/local/lib/python3.10/dist-packages/sklearn/cluster/_kmeans.py:870: FutureWarning: The default value of `n_init` will change from 3 to 'auto' in 1.4. Set the value of `n_init` explicitly to suppress the warning\n",
            "  warnings.warn(\n",
            "/usr/local/lib/python3.10/dist-packages/sklearn/cluster/_kmeans.py:870: FutureWarning: The default value of `n_init` will change from 3 to 'auto' in 1.4. Set the value of `n_init` explicitly to suppress the warning\n",
            "  warnings.warn(\n",
            "/usr/local/lib/python3.10/dist-packages/sklearn/cluster/_kmeans.py:870: FutureWarning: The default value of `n_init` will change from 3 to 'auto' in 1.4. Set the value of `n_init` explicitly to suppress the warning\n",
            "  warnings.warn(\n",
            "/usr/local/lib/python3.10/dist-packages/sklearn/cluster/_kmeans.py:870: FutureWarning: The default value of `n_init` will change from 3 to 'auto' in 1.4. Set the value of `n_init` explicitly to suppress the warning\n",
            "  warnings.warn(\n",
            "/usr/local/lib/python3.10/dist-packages/sklearn/cluster/_kmeans.py:870: FutureWarning: The default value of `n_init` will change from 3 to 'auto' in 1.4. Set the value of `n_init` explicitly to suppress the warning\n",
            "  warnings.warn(\n",
            "/usr/local/lib/python3.10/dist-packages/sklearn/cluster/_kmeans.py:870: FutureWarning: The default value of `n_init` will change from 3 to 'auto' in 1.4. Set the value of `n_init` explicitly to suppress the warning\n",
            "  warnings.warn(\n"
          ]
        },
        {
          "output_type": "stream",
          "name": "stdout",
          "text": [
            "Model selected: LSSVM\n"
          ]
        },
        {
          "output_type": "stream",
          "name": "stderr",
          "text": [
            "/usr/local/lib/python3.10/dist-packages/sklearn/cluster/_kmeans.py:870: FutureWarning: The default value of `n_init` will change from 3 to 'auto' in 1.4. Set the value of `n_init` explicitly to suppress the warning\n",
            "  warnings.warn(\n",
            "/usr/local/lib/python3.10/dist-packages/sklearn/cluster/_kmeans.py:870: FutureWarning: The default value of `n_init` will change from 3 to 'auto' in 1.4. Set the value of `n_init` explicitly to suppress the warning\n",
            "  warnings.warn(\n",
            "/usr/local/lib/python3.10/dist-packages/sklearn/cluster/_kmeans.py:870: FutureWarning: The default value of `n_init` will change from 3 to 'auto' in 1.4. Set the value of `n_init` explicitly to suppress the warning\n",
            "  warnings.warn(\n",
            "/usr/local/lib/python3.10/dist-packages/sklearn/cluster/_kmeans.py:870: FutureWarning: The default value of `n_init` will change from 3 to 'auto' in 1.4. Set the value of `n_init` explicitly to suppress the warning\n",
            "  warnings.warn(\n",
            "/usr/local/lib/python3.10/dist-packages/sklearn/cluster/_kmeans.py:870: FutureWarning: The default value of `n_init` will change from 3 to 'auto' in 1.4. Set the value of `n_init` explicitly to suppress the warning\n",
            "  warnings.warn(\n",
            "/usr/local/lib/python3.10/dist-packages/sklearn/cluster/_kmeans.py:870: FutureWarning: The default value of `n_init` will change from 3 to 'auto' in 1.4. Set the value of `n_init` explicitly to suppress the warning\n",
            "  warnings.warn(\n",
            "/usr/local/lib/python3.10/dist-packages/sklearn/cluster/_kmeans.py:870: FutureWarning: The default value of `n_init` will change from 3 to 'auto' in 1.4. Set the value of `n_init` explicitly to suppress the warning\n",
            "  warnings.warn(\n",
            "/usr/local/lib/python3.10/dist-packages/sklearn/cluster/_kmeans.py:870: FutureWarning: The default value of `n_init` will change from 3 to 'auto' in 1.4. Set the value of `n_init` explicitly to suppress the warning\n",
            "  warnings.warn(\n",
            "/usr/local/lib/python3.10/dist-packages/sklearn/cluster/_kmeans.py:870: FutureWarning: The default value of `n_init` will change from 3 to 'auto' in 1.4. Set the value of `n_init` explicitly to suppress the warning\n",
            "  warnings.warn(\n",
            "/usr/local/lib/python3.10/dist-packages/sklearn/cluster/_kmeans.py:870: FutureWarning: The default value of `n_init` will change from 3 to 'auto' in 1.4. Set the value of `n_init` explicitly to suppress the warning\n",
            "  warnings.warn(\n",
            "/usr/local/lib/python3.10/dist-packages/sklearn/cluster/_kmeans.py:870: FutureWarning: The default value of `n_init` will change from 3 to 'auto' in 1.4. Set the value of `n_init` explicitly to suppress the warning\n",
            "  warnings.warn(\n",
            "/usr/local/lib/python3.10/dist-packages/sklearn/cluster/_kmeans.py:870: FutureWarning: The default value of `n_init` will change from 3 to 'auto' in 1.4. Set the value of `n_init` explicitly to suppress the warning\n",
            "  warnings.warn(\n",
            "/usr/local/lib/python3.10/dist-packages/sklearn/cluster/_kmeans.py:870: FutureWarning: The default value of `n_init` will change from 3 to 'auto' in 1.4. Set the value of `n_init` explicitly to suppress the warning\n",
            "  warnings.warn(\n",
            "/usr/local/lib/python3.10/dist-packages/sklearn/cluster/_kmeans.py:870: FutureWarning: The default value of `n_init` will change from 3 to 'auto' in 1.4. Set the value of `n_init` explicitly to suppress the warning\n",
            "  warnings.warn(\n"
          ]
        },
        {
          "output_type": "stream",
          "name": "stdout",
          "text": [
            "Model selected: IDLSSVM-CIL\n"
          ]
        },
        {
          "output_type": "stream",
          "name": "stderr",
          "text": [
            "/usr/local/lib/python3.10/dist-packages/sklearn/cluster/_kmeans.py:870: FutureWarning: The default value of `n_init` will change from 3 to 'auto' in 1.4. Set the value of `n_init` explicitly to suppress the warning\n",
            "  warnings.warn(\n",
            "/usr/local/lib/python3.10/dist-packages/sklearn/cluster/_kmeans.py:870: FutureWarning: The default value of `n_init` will change from 3 to 'auto' in 1.4. Set the value of `n_init` explicitly to suppress the warning\n",
            "  warnings.warn(\n",
            "/usr/local/lib/python3.10/dist-packages/sklearn/cluster/_kmeans.py:870: FutureWarning: The default value of `n_init` will change from 3 to 'auto' in 1.4. Set the value of `n_init` explicitly to suppress the warning\n",
            "  warnings.warn(\n",
            "/usr/local/lib/python3.10/dist-packages/sklearn/cluster/_kmeans.py:870: FutureWarning: The default value of `n_init` will change from 3 to 'auto' in 1.4. Set the value of `n_init` explicitly to suppress the warning\n",
            "  warnings.warn(\n",
            "/usr/local/lib/python3.10/dist-packages/sklearn/cluster/_kmeans.py:870: FutureWarning: The default value of `n_init` will change from 3 to 'auto' in 1.4. Set the value of `n_init` explicitly to suppress the warning\n",
            "  warnings.warn(\n",
            "/usr/local/lib/python3.10/dist-packages/sklearn/cluster/_kmeans.py:870: FutureWarning: The default value of `n_init` will change from 3 to 'auto' in 1.4. Set the value of `n_init` explicitly to suppress the warning\n",
            "  warnings.warn(\n",
            "/usr/local/lib/python3.10/dist-packages/sklearn/cluster/_kmeans.py:870: FutureWarning: The default value of `n_init` will change from 3 to 'auto' in 1.4. Set the value of `n_init` explicitly to suppress the warning\n",
            "  warnings.warn(\n",
            "/usr/local/lib/python3.10/dist-packages/sklearn/cluster/_kmeans.py:870: FutureWarning: The default value of `n_init` will change from 3 to 'auto' in 1.4. Set the value of `n_init` explicitly to suppress the warning\n",
            "  warnings.warn(\n",
            "/usr/local/lib/python3.10/dist-packages/sklearn/cluster/_kmeans.py:870: FutureWarning: The default value of `n_init` will change from 3 to 'auto' in 1.4. Set the value of `n_init` explicitly to suppress the warning\n",
            "  warnings.warn(\n",
            "/usr/local/lib/python3.10/dist-packages/sklearn/cluster/_kmeans.py:870: FutureWarning: The default value of `n_init` will change from 3 to 'auto' in 1.4. Set the value of `n_init` explicitly to suppress the warning\n",
            "  warnings.warn(\n",
            "/usr/local/lib/python3.10/dist-packages/sklearn/cluster/_kmeans.py:870: FutureWarning: The default value of `n_init` will change from 3 to 'auto' in 1.4. Set the value of `n_init` explicitly to suppress the warning\n",
            "  warnings.warn(\n",
            "/usr/local/lib/python3.10/dist-packages/sklearn/cluster/_kmeans.py:870: FutureWarning: The default value of `n_init` will change from 3 to 'auto' in 1.4. Set the value of `n_init` explicitly to suppress the warning\n",
            "  warnings.warn(\n",
            "/usr/local/lib/python3.10/dist-packages/sklearn/cluster/_kmeans.py:870: FutureWarning: The default value of `n_init` will change from 3 to 'auto' in 1.4. Set the value of `n_init` explicitly to suppress the warning\n",
            "  warnings.warn(\n",
            "/usr/local/lib/python3.10/dist-packages/sklearn/cluster/_kmeans.py:870: FutureWarning: The default value of `n_init` will change from 3 to 'auto' in 1.4. Set the value of `n_init` explicitly to suppress the warning\n",
            "  warnings.warn(\n",
            "/usr/local/lib/python3.10/dist-packages/sklearn/cluster/_kmeans.py:870: FutureWarning: The default value of `n_init` will change from 3 to 'auto' in 1.4. Set the value of `n_init` explicitly to suppress the warning\n",
            "  warnings.warn(\n"
          ]
        }
      ]
    },
    {
      "cell_type": "code",
      "source": [
        "output_path = '/content/drive/MyDrive/CS_403_project_files/project_results_complete.xlsx'\n",
        "results.to_excel(output_path, index=False)"
      ],
      "metadata": {
        "id": "zQdnpAQ0eJ-7"
      },
      "execution_count": 13,
      "outputs": []
    }
  ]
}